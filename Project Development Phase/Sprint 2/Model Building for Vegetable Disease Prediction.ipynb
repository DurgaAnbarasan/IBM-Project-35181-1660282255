{
 "cells": [
  {
   "cell_type": "code",
   "execution_count": 68,
   "id": "ebc1fbe5",
   "metadata": {},
   "outputs": [
    {
     "name": "stdout",
     "output_type": "stream",
     "text": [
      " Volume in drive C has no label.\n",
      " Volume Serial Number is 884E-D864\n",
      "\n",
      " Directory of C:\\Users\\Hari Haran Vj\\Desktop\\IBM\n",
      "\n",
      "07-11-2022  09:04    <DIR>          .\n",
      "07-11-2022  09:04    <DIR>          ..\n",
      "05-11-2022  10:38    <DIR>          .ipynb_checkpoints\n",
      "03-11-2022  14:32    <DIR>          Fertilizers_Recommendation_ System_For_Disease_ Prediction\n",
      "30-10-2022  11:07       337,399,397 Fertilizers_Recommendation_ System_For_Disease_ Prediction.zip\n",
      "04-11-2022  14:22             1,725 Image Pre Process for Vegetable.ipynb\n",
      "04-11-2022  14:17             1,724 Image Pre Processing for Fruit.ipynb\n",
      "05-11-2022  10:56             9,895 Model Building for Fruit Disease Prediction.ipynb\n",
      "07-11-2022  09:04            73,234 Model Building for Vegetable Disease Prediction.ipynb\n",
      "07-11-2022  08:53       152,619,128 vegetable.h5\n",
      "               6 File(s)    490,105,103 bytes\n",
      "               4 Dir(s)  25,271,623,680 bytes free\n"
     ]
    }
   ],
   "source": [
    "ls"
   ]
  },
  {
   "cell_type": "code",
   "execution_count": 69,
   "id": "539b2b04",
   "metadata": {},
   "outputs": [
    {
     "data": {
      "text/plain": [
       "'C:\\\\Users\\\\Hari Haran Vj\\\\Desktop\\\\IBM'"
      ]
     },
     "execution_count": 69,
     "metadata": {},
     "output_type": "execute_result"
    }
   ],
   "source": [
    "pwd"
   ]
  },
  {
   "cell_type": "markdown",
   "id": "4678c2c2",
   "metadata": {},
   "source": [
    "\n",
    "# Image Augumentation"
   ]
  },
  {
   "cell_type": "code",
   "execution_count": 70,
   "id": "5ccabfb8",
   "metadata": {},
   "outputs": [],
   "source": [
    "from tensorflow.keras.preprocessing.image import ImageDataGenerator"
   ]
  },
  {
   "cell_type": "code",
   "execution_count": 71,
   "id": "358df765",
   "metadata": {},
   "outputs": [],
   "source": [
    "train_datagen=ImageDataGenerator(rescale=1./255,zoom_range=0.2,horizontal_flip=True,vertical_flip=False)"
   ]
  },
  {
   "cell_type": "code",
   "execution_count": 72,
   "id": "80bffbc7",
   "metadata": {},
   "outputs": [],
   "source": [
    "test_datagen=ImageDataGenerator(rescale=1./255)"
   ]
  },
  {
   "cell_type": "code",
   "execution_count": 73,
   "id": "172ed5a7",
   "metadata": {},
   "outputs": [
    {
     "name": "stdout",
     "output_type": "stream",
     "text": [
      " Volume in drive C has no label.\n",
      " Volume Serial Number is 884E-D864\n",
      "\n",
      " Directory of C:\\Users\\Hari Haran Vj\\Desktop\\IBM\n",
      "\n",
      "07-11-2022  09:04    <DIR>          .\n",
      "07-11-2022  09:04    <DIR>          ..\n",
      "05-11-2022  10:38    <DIR>          .ipynb_checkpoints\n",
      "03-11-2022  14:32    <DIR>          Fertilizers_Recommendation_ System_For_Disease_ Prediction\n",
      "30-10-2022  11:07       337,399,397 Fertilizers_Recommendation_ System_For_Disease_ Prediction.zip\n",
      "04-11-2022  14:22             1,725 Image Pre Process for Vegetable.ipynb\n",
      "04-11-2022  14:17             1,724 Image Pre Processing for Fruit.ipynb\n",
      "05-11-2022  10:56             9,895 Model Building for Fruit Disease Prediction.ipynb\n",
      "07-11-2022  09:04            73,234 Model Building for Vegetable Disease Prediction.ipynb\n",
      "07-11-2022  08:53       152,619,128 vegetable.h5\n",
      "               6 File(s)    490,105,103 bytes\n",
      "               4 Dir(s)  25,272,811,520 bytes free\n"
     ]
    }
   ],
   "source": [
    "ls"
   ]
  },
  {
   "cell_type": "code",
   "execution_count": 74,
   "id": "bbd9f723",
   "metadata": {},
   "outputs": [
    {
     "data": {
      "text/plain": [
       "'C:\\\\Users\\\\Hari Haran Vj\\\\Desktop\\\\IBM'"
      ]
     },
     "execution_count": 74,
     "metadata": {},
     "output_type": "execute_result"
    }
   ],
   "source": [
    "pwd"
   ]
  },
  {
   "cell_type": "code",
   "execution_count": 75,
   "id": "a4f6875a",
   "metadata": {},
   "outputs": [
    {
     "name": "stdout",
     "output_type": "stream",
     "text": [
      "Found 11386 images belonging to 9 classes.\n"
     ]
    }
   ],
   "source": [
    "x_train = train_datagen.flow_from_directory(r'C:\\Users\\Hari Haran Vj\\ibm\\Dataset Plant Disease\\Veg-dataset\\Veg-dataset\\train_set',target_size = (128,128), batch_size = 32, class_mode = 'categorical')"
   ]
  },
  {
   "cell_type": "code",
   "execution_count": 76,
   "id": "e7fc5fe3",
   "metadata": {},
   "outputs": [
    {
     "name": "stdout",
     "output_type": "stream",
     "text": [
      "Found 3416 images belonging to 9 classes.\n"
     ]
    }
   ],
   "source": [
    "x_test = test_datagen.flow_from_directory(r'C:\\Users\\Hari Haran Vj\\ibm\\Dataset Plant Disease\\Veg-dataset\\Veg-dataset\\test_set',target_size = (128,128), batch_size = 32, class_mode = 'categorical')"
   ]
  },
  {
   "cell_type": "code",
   "execution_count": 77,
   "id": "c59e17c9",
   "metadata": {},
   "outputs": [
    {
     "data": {
      "text/plain": [
       "{'Pepper,_bell___Bacterial_spot': 0,\n",
       " 'Pepper,_bell___healthy': 1,\n",
       " 'Potato___Early_blight': 2,\n",
       " 'Potato___Late_blight': 3,\n",
       " 'Potato___healthy': 4,\n",
       " 'Tomato___Bacterial_spot': 5,\n",
       " 'Tomato___Late_blight': 6,\n",
       " 'Tomato___Leaf_Mold': 7,\n",
       " 'Tomato___Septoria_leaf_spot': 8}"
      ]
     },
     "execution_count": 77,
     "metadata": {},
     "output_type": "execute_result"
    }
   ],
   "source": [
    "x_train.class_indices"
   ]
  },
  {
   "cell_type": "markdown",
   "id": "11204a7b",
   "metadata": {},
   "source": [
    "# CNN"
   ]
  },
  {
   "cell_type": "code",
   "execution_count": 78,
   "id": "2191fee7",
   "metadata": {},
   "outputs": [],
   "source": [
    "from tensorflow.keras.models import Sequential\n",
    "from tensorflow.keras.layers import Dense,Convolution2D,MaxPooling2D,Flatten"
   ]
  },
  {
   "cell_type": "code",
   "execution_count": 79,
   "id": "853eea25",
   "metadata": {},
   "outputs": [],
   "source": [
    "model=Sequential()"
   ]
  },
  {
   "cell_type": "code",
   "execution_count": 80,
   "id": "36e8fd8e",
   "metadata": {},
   "outputs": [],
   "source": [
    "model.add(Convolution2D(32,(3,3),input_shape=(128,128,3),activation='relu'))"
   ]
  },
  {
   "cell_type": "code",
   "execution_count": 81,
   "id": "335a98d8",
   "metadata": {},
   "outputs": [],
   "source": [
    "model.add(MaxPooling2D(pool_size=(2,2)))"
   ]
  },
  {
   "cell_type": "code",
   "execution_count": 82,
   "id": "080f0de5",
   "metadata": {},
   "outputs": [],
   "source": [
    "model.add(Flatten())"
   ]
  },
  {
   "cell_type": "code",
   "execution_count": 83,
   "id": "60127fc0",
   "metadata": {},
   "outputs": [
    {
     "name": "stdout",
     "output_type": "stream",
     "text": [
      "Model: \"sequential_1\"\n",
      "_________________________________________________________________\n",
      " Layer (type)                Output Shape              Param #   \n",
      "=================================================================\n",
      " conv2d_1 (Conv2D)           (None, 126, 126, 32)      896       \n",
      "                                                                 \n",
      " max_pooling2d_1 (MaxPooling  (None, 63, 63, 32)       0         \n",
      " 2D)                                                             \n",
      "                                                                 \n",
      " flatten_1 (Flatten)         (None, 127008)            0         \n",
      "                                                                 \n",
      "=================================================================\n",
      "Total params: 896\n",
      "Trainable params: 896\n",
      "Non-trainable params: 0\n",
      "_________________________________________________________________\n"
     ]
    }
   ],
   "source": [
    "model.summary()"
   ]
  },
  {
   "cell_type": "markdown",
   "id": "676f5b58",
   "metadata": {},
   "source": [
    "# Hidden Layers"
   ]
  },
  {
   "cell_type": "code",
   "execution_count": 84,
   "id": "821ccd70",
   "metadata": {},
   "outputs": [],
   "source": [
    "model.add(Dense(300,activation='relu'))\n",
    "model.add(Dense(150,activation='relu'))"
   ]
  },
  {
   "cell_type": "markdown",
   "id": "d5018e55",
   "metadata": {},
   "source": [
    "# Outing Layers"
   ]
  },
  {
   "cell_type": "code",
   "execution_count": 85,
   "id": "81e2fca2",
   "metadata": {},
   "outputs": [],
   "source": [
    "model.add(Dense(6,activation='softmax'))"
   ]
  },
  {
   "cell_type": "code",
   "execution_count": 86,
   "id": "cafd74ad",
   "metadata": {},
   "outputs": [],
   "source": [
    "model.compile(loss='categorical_crossentropy',optimizer='adam',metrics=['accuracy'])"
   ]
  },
  {
   "cell_type": "code",
   "execution_count": 87,
   "id": "ff112818",
   "metadata": {},
   "outputs": [
    {
     "data": {
      "text/plain": [
       "356"
      ]
     },
     "execution_count": 87,
     "metadata": {},
     "output_type": "execute_result"
    }
   ],
   "source": [
    "len(x_train)"
   ]
  },
  {
   "cell_type": "code",
   "execution_count": 88,
   "id": "576cb041",
   "metadata": {},
   "outputs": [
    {
     "data": {
      "text/plain": [
       "51.583333333333336"
      ]
     },
     "execution_count": 88,
     "metadata": {},
     "output_type": "execute_result"
    }
   ],
   "source": [
    "1238/24"
   ]
  },
  {
   "cell_type": "markdown",
   "id": "1ee1bd49",
   "metadata": {},
   "source": [
    "# Saving the Model"
   ]
  },
  {
   "cell_type": "code",
   "execution_count": 89,
   "id": "f38da1a4",
   "metadata": {},
   "outputs": [
    {
     "name": "stdout",
     "output_type": "stream",
     "text": [
      " Volume in drive C has no label.\n",
      " Volume Serial Number is 884E-D864\n",
      "\n",
      " Directory of C:\\Users\\Hari Haran Vj\\Desktop\\IBM\n",
      "\n",
      "07-11-2022  09:04    <DIR>          .\n",
      "07-11-2022  09:04    <DIR>          ..\n",
      "05-11-2022  10:38    <DIR>          .ipynb_checkpoints\n",
      "03-11-2022  14:32    <DIR>          Fertilizers_Recommendation_ System_For_Disease_ Prediction\n",
      "30-10-2022  11:07       337,399,397 Fertilizers_Recommendation_ System_For_Disease_ Prediction.zip\n",
      "04-11-2022  14:22             1,725 Image Pre Process for Vegetable.ipynb\n",
      "04-11-2022  14:17             1,724 Image Pre Processing for Fruit.ipynb\n",
      "05-11-2022  10:56             9,895 Model Building for Fruit Disease Prediction.ipynb\n",
      "07-11-2022  09:04            73,234 Model Building for Vegetable Disease Prediction.ipynb\n",
      "07-11-2022  08:53       152,619,128 vegetable.h5\n",
      "               6 File(s)    490,105,103 bytes\n",
      "               4 Dir(s)  25,272,700,928 bytes free\n"
     ]
    }
   ],
   "source": [
    "ls"
   ]
  },
  {
   "cell_type": "code",
   "execution_count": 90,
   "id": "8a269514",
   "metadata": {},
   "outputs": [],
   "source": [
    "model.save('vegetable.h5')"
   ]
  },
  {
   "cell_type": "code",
   "execution_count": 91,
   "id": "998c857d",
   "metadata": {},
   "outputs": [
    {
     "name": "stdout",
     "output_type": "stream",
     "text": [
      " Volume in drive C has no label.\n",
      " Volume Serial Number is 884E-D864\n",
      "\n",
      " Directory of C:\\Users\\Hari Haran Vj\\Desktop\\IBM\n",
      "\n",
      "07-11-2022  09:06    <DIR>          .\n",
      "07-11-2022  09:06    <DIR>          ..\n",
      "05-11-2022  10:38    <DIR>          .ipynb_checkpoints\n",
      "03-11-2022  14:32    <DIR>          Fertilizers_Recommendation_ System_For_Disease_ Prediction\n",
      "30-10-2022  11:07       337,399,397 Fertilizers_Recommendation_ System_For_Disease_ Prediction.zip\n",
      "04-11-2022  14:22             1,725 Image Pre Process for Vegetable.ipynb\n",
      "04-11-2022  14:17             1,724 Image Pre Processing for Fruit.ipynb\n",
      "05-11-2022  10:56             9,895 Model Building for Fruit Disease Prediction.ipynb\n",
      "07-11-2022  09:06            16,041 Model Building for Vegetable Disease Prediction.ipynb\n",
      "07-11-2022  09:06       152,619,264 vegetable.h5\n",
      "               6 File(s)    490,048,046 bytes\n",
      "               4 Dir(s)  25,273,257,984 bytes free\n"
     ]
    }
   ],
   "source": [
    "ls"
   ]
  },
  {
   "cell_type": "markdown",
   "id": "a1dfe915",
   "metadata": {},
   "source": [
    "# Test the Model"
   ]
  },
  {
   "cell_type": "code",
   "execution_count": 92,
   "id": "6cd915c0",
   "metadata": {},
   "outputs": [],
   "source": [
    "import numpy as np\n",
    "from tensorflow.keras.models import load_model\n",
    "from tensorflow.keras.preprocessing import image"
   ]
  },
  {
   "cell_type": "code",
   "execution_count": 93,
   "id": "67e83192",
   "metadata": {},
   "outputs": [],
   "source": [
    "model=load_model('vegetable.h5')"
   ]
  },
  {
   "cell_type": "code",
   "execution_count": 105,
   "id": "c499ce09",
   "metadata": {},
   "outputs": [],
   "source": [
    "img=image.load_img(r\"C:\\Users\\Hari Haran Vj\\ibm\\Dataset Plant Disease\\Veg-dataset\\Veg-dataset\\test_set\\Pepper,_bell___Bacterial_spot\\ca536e69-ebc0-4a82-8bca-c074f9399885___JR_B.Spot 8986.JPG\")"
   ]
  },
  {
   "cell_type": "code",
   "execution_count": 95,
   "id": "93367869",
   "metadata": {},
   "outputs": [
    {
     "data": {
      "image/png": "[encoded data removed]",
      "text/plain": [
       "<PIL.Image.Image image mode=RGB size=128x128>"
      ]
     },
     "execution_count": 95,
     "metadata": {},
     "output_type": "execute_result"
    }
   ],
   "source": [
    "img=image.load_img(r\"C:\\Users\\Hari Haran Vj\\ibm\\Dataset Plant Disease\\Veg-dataset\\Veg-dataset\\test_set\\Pepper,_bell___Bacterial_spot\\ca536e69-ebc0-4a82-8bca-c074f9399885___JR_B.Spot 8986.JPG\",target_size=(128,128))\n",
    "img"
   ]
  },
  {
   "cell_type": "code",
   "execution_count": 96,
   "id": "4b5bc771",
   "metadata": {},
   "outputs": [],
   "source": [
    "x=image.img_to_array(img)"
   ]
  },
  {
   "cell_type": "code",
   "execution_count": 97,
   "id": "8f38d081",
   "metadata": {},
   "outputs": [
    {
     "data": {
      "text/plain": [
       "array([[[173., 157., 158.],\n",
       "        [168., 152., 153.],\n",
       "        [171., 155., 156.],\n",
       "        ...,\n",
       "        [180., 165., 170.],\n",
       "        [179., 164., 169.],\n",
       "        [176., 161., 166.]],\n",
       "\n",
       "       [[172., 156., 157.],\n",
       "        [176., 160., 161.],\n",
       "        [182., 166., 167.],\n",
       "        ...,\n",
       "        [170., 155., 160.],\n",
       "        [179., 164., 169.],\n",
       "        [196., 181., 186.]],\n",
       "\n",
       "       [[174., 158., 159.],\n",
       "        [171., 155., 156.],\n",
       "        [167., 151., 152.],\n",
       "        ...,\n",
       "        [180., 165., 170.],\n",
       "        [188., 173., 178.],\n",
       "        [184., 169., 174.]],\n",
       "\n",
       "       ...,\n",
       "\n",
       "       [[176., 162., 162.],\n",
       "        [185., 171., 171.],\n",
       "        [202., 188., 188.],\n",
       "        ...,\n",
       "        [162., 150., 152.],\n",
       "        [162., 150., 152.],\n",
       "        [157., 145., 147.]],\n",
       "\n",
       "       [[182., 168., 168.],\n",
       "        [167., 153., 153.],\n",
       "        [158., 144., 144.],\n",
       "        ...,\n",
       "        [132., 120., 122.],\n",
       "        [153., 141., 143.],\n",
       "        [144., 132., 134.]],\n",
       "\n",
       "       [[199., 185., 185.],\n",
       "        [174., 160., 160.],\n",
       "        [164., 150., 150.],\n",
       "        ...,\n",
       "        [158., 146., 148.],\n",
       "        [151., 139., 141.],\n",
       "        [160., 148., 150.]]], dtype=float32)"
      ]
     },
     "execution_count": 97,
     "metadata": {},
     "output_type": "execute_result"
    }
   ],
   "source": [
    "x"
   ]
  },
  {
   "cell_type": "code",
   "execution_count": 98,
   "id": "e39e2897",
   "metadata": {},
   "outputs": [],
   "source": [
    "x=np.expand_dims(x,axis=0)"
   ]
  },
  {
   "cell_type": "code",
   "execution_count": 99,
   "id": "66709f71",
   "metadata": {},
   "outputs": [
    {
     "data": {
      "text/plain": [
       "array([[[[173., 157., 158.],\n",
       "         [168., 152., 153.],\n",
       "         [171., 155., 156.],\n",
       "         ...,\n",
       "         [180., 165., 170.],\n",
       "         [179., 164., 169.],\n",
       "         [176., 161., 166.]],\n",
       "\n",
       "        [[172., 156., 157.],\n",
       "         [176., 160., 161.],\n",
       "         [182., 166., 167.],\n",
       "         ...,\n",
       "         [170., 155., 160.],\n",
       "         [179., 164., 169.],\n",
       "         [196., 181., 186.]],\n",
       "\n",
       "        [[174., 158., 159.],\n",
       "         [171., 155., 156.],\n",
       "         [167., 151., 152.],\n",
       "         ...,\n",
       "         [180., 165., 170.],\n",
       "         [188., 173., 178.],\n",
       "         [184., 169., 174.]],\n",
       "\n",
       "        ...,\n",
       "\n",
       "        [[176., 162., 162.],\n",
       "         [185., 171., 171.],\n",
       "         [202., 188., 188.],\n",
       "         ...,\n",
       "         [162., 150., 152.],\n",
       "         [162., 150., 152.],\n",
       "         [157., 145., 147.]],\n",
       "\n",
       "        [[182., 168., 168.],\n",
       "         [167., 153., 153.],\n",
       "         [158., 144., 144.],\n",
       "         ...,\n",
       "         [132., 120., 122.],\n",
       "         [153., 141., 143.],\n",
       "         [144., 132., 134.]],\n",
       "\n",
       "        [[199., 185., 185.],\n",
       "         [174., 160., 160.],\n",
       "         [164., 150., 150.],\n",
       "         ...,\n",
       "         [158., 146., 148.],\n",
       "         [151., 139., 141.],\n",
       "         [160., 148., 150.]]]], dtype=float32)"
      ]
     },
     "execution_count": 99,
     "metadata": {},
     "output_type": "execute_result"
    }
   ],
   "source": [
    "x"
   ]
  },
  {
   "cell_type": "code",
   "execution_count": 100,
   "id": "80a4c436",
   "metadata": {},
   "outputs": [
    {
     "name": "stdout",
     "output_type": "stream",
     "text": [
      "1/1 [==============================] - 3s 3s/step\n"
     ]
    }
   ],
   "source": [
    "y=np.argmax(model.predict(x),axis=1)"
   ]
  },
  {
   "cell_type": "code",
   "execution_count": 101,
   "id": "f1c6183f",
   "metadata": {},
   "outputs": [
    {
     "data": {
      "text/plain": [
       "{'Pepper,_bell___Bacterial_spot': 0,\n",
       " 'Pepper,_bell___healthy': 1,\n",
       " 'Potato___Early_blight': 2,\n",
       " 'Potato___Late_blight': 3,\n",
       " 'Potato___healthy': 4,\n",
       " 'Tomato___Bacterial_spot': 5,\n",
       " 'Tomato___Late_blight': 6,\n",
       " 'Tomato___Leaf_Mold': 7,\n",
       " 'Tomato___Septoria_leaf_spot': 8}"
      ]
     },
     "execution_count": 101,
     "metadata": {},
     "output_type": "execute_result"
    }
   ],
   "source": [
    "x_train.class_indices"
   ]
  },
  {
   "cell_type": "code",
   "execution_count": 102,
   "id": "36865c1e",
   "metadata": {},
   "outputs": [],
   "source": [
    "index=['Pepper,_bell___Bacterial_spot','Pepper,_bell___healthy','Potato___Early_blight','Potato___Late_blight','Potato___healthy','Tomato___Bacterial_spot','Tomato___Late_blight','Tomato___Leaf_Mold','Tomato___Septoria_leaf_spot']"
   ]
  },
  {
   "cell_type": "code",
   "execution_count": 103,
   "id": "44f6ce5c",
   "metadata": {},
   "outputs": [
    {
     "data": {
      "text/plain": [
       "'Potato___Early_blight'"
      ]
     },
     "execution_count": 103,
     "metadata": {},
     "output_type": "execute_result"
    }
   ],
   "source": [
    "index[y[0]]"
   ]
  },
  {
   "cell_type": "code",
   "execution_count": 104,
   "id": "2a5835c4",
   "metadata": {},
   "outputs": [
    {
     "name": "stdout",
     "output_type": "stream",
     "text": [
      "1/1 [==============================] - 0s 224ms/step\n"
     ]
    },
    {
     "data": {
      "text/plain": [
       "'Potato___Early_blight'"
      ]
     },
     "execution_count": 104,
     "metadata": {},
     "output_type": "execute_result"
    }
   ],
   "source": [
    "img=image.load_img(r\"C:\\Users\\Hari Haran Vj\\ibm\\Dataset Plant Disease\\Veg-dataset\\Veg-dataset\\test_set\\Tomato___Septoria_leaf_spot\\c551c562-b93a-4b2e-9058-12519414b3ff___Matt.S_CG 2882.JPG\",target_size=(128,128))\n",
    "x=image.img_to_array(img)\n",
    "x=np.expand_dims(x,axis=0)\n",
    "y=np.argmax(model.predict(x),axis=1)\n",
    "index=['Pepper,_bell___Bacterial_spot','Pepper,_bell___healthy','Potato___Early_blight','Potato___Late_blight','Potato___healthy','Tomato___Bacterial_spot','Tomato___Late_blight','Tomato___Leaf_Mold','Tomato___Septoria_leaf_spot']\n",
    "index[y[0]]"
   ]
  },
  {
   "cell_type": "code",
   "execution_count": null,
   "id": "d0904297",
   "metadata": {},
   "outputs": [],
   "source": []
  }
 ],
 "metadata": {
  "kernelspec": {
   "display_name": "Python 3 (ipykernel)",
   "language": "python",
   "name": "python3"
  },
  "language_info": {
   "codemirror_mode": {
    "name": "ipython",
    "version": 3
   },
   "file_extension": ".py",
   "mimetype": "text/x-python",
   "name": "python",
   "nbconvert_exporter": "python",
   "pygments_lexer": "ipython3",
   "version": "3.9.13"
  }
 },
 "nbformat": 4,
 "nbformat_minor": 5
}
